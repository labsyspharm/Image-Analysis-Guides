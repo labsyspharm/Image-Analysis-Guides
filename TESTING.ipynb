{
 "cells": [
  {
   "cell_type": "markdown",
   "id": "3f5405e9-ede6-49a4-aa26-f3e8355b0526",
   "metadata": {},
   "source": [
    "## Stepwise guide for running mcmicro on O2\n",
    "\n",
    "### Step: 1\n",
    "Upload the raw data to O2 and make sure the data is organized in the following format. Raw data from each slide/image needs to be in its own folder named `raw`. All the images need to be placed under a higher level folder (Dataset).\n",
    "\n",
    "-- Main_Folder (Dataset)  \n",
    "       -- Image1/ \n",
    "            -- raw/  \n",
    "        -- Image2/  \n",
    "            -- raw/ "
   ]
  }
 ],
 "metadata": {
  "kernelspec": {
   "display_name": "Python 3 (ipykernel)",
   "language": "python",
   "name": "python3"
  },
  "language_info": {
   "codemirror_mode": {
    "name": "ipython",
    "version": 3
   },
   "file_extension": ".py",
   "mimetype": "text/x-python",
   "name": "python",
   "nbconvert_exporter": "python",
   "pygments_lexer": "ipython3",
   "version": "3.10.14"
  }
 },
 "nbformat": 4,
 "nbformat_minor": 5
}
