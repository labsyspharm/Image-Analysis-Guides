{
 "cells": [
  {
   "cell_type": "markdown",
   "id": "ea41240f-dc74-47f9-bf92-0db78480a590",
   "metadata": {},
   "source": [
    "## Stepwise guide for uploading images to HMS omero\n",
    "server address: `omero-app.hms.harvard.edu`\n",
    "### Step: 1\n",
    "Upload the raw data to your working directory on O2 scratch folder (`n/scratch/users/*/*/[working dir]` and make sure the data is organized in the following format. Raw data fr"
   ]
  }
 ],
 "metadata": {
  "kernelspec": {
   "display_name": "Python 3 (ipykernel)",
   "language": "python",
   "name": "python3"
  },
  "language_info": {
   "codemirror_mode": {
    "name": "ipython",
    "version": 3
   },
   "file_extension": ".py",
   "mimetype": "text/x-python",
   "name": "python",
   "nbconvert_exporter": "python",
   "pygments_lexer": "ipython3",
   "version": "3.10.14"
  }
 },
 "nbformat": 4,
 "nbformat_minor": 5
}
