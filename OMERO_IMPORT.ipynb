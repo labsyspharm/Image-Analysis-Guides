{
 "cells": [
  {
   "cell_type": "markdown",
   "id": "ea41240f-dc74-47f9-bf92-0db78480a590",
   "metadata": {},
   "source": [
    "## Stepwise guide for uploading images to HMS omero\n",
    "server address: `omero-app.hms.harvard.edu`\n",
    "### Step: 1 Transfer the data to O2 scratch\n",
    "Open a new terminal window. Using transfer node `ssh [ECOMMON ID]@transfer.rc.hms.harvard.edu` copy the raw data to your working directory on O2 scratch folder (`rsync -avP [path to source data] /n/scratch/users/*/*/[working dir]`)\n",
    "\n",
    "Open another terminal window. Log into O2 node `ssh [ECOMMON ID]@o2.hms.harvard.edu`. Go to the directory where you transferred your data.\n",
    "`cd /n/scratch/users/*/*/[working dir]`\n",
    "\n",
    "### Step: 2 Start an interactive job\n",
    "From the login node, start an interactive job: `srun --pty -p interactive -t 0-2 bash` \n",
    "\n",
    "### Step: 3 Load Omero and create a login session\n",
    "Load the Omero module: `module load omero`\n",
    "\n",
    "login. This command creates session thats active on omero the maximum time time (100 min) so you don't ahave to log in again during that period even if you shut the window and it seems like omero isn't running on O2)\n",
    "\n",
    "`omero login -s omero-app.hms.harvard.edu -g 'group to upload to' -t 99999`\n",
    "\n",
    "### Step: 4 Submit a wrap job\n",
    "This continues the upload even while the comp is closed. This works because the wrap is looking for login info from the session rather than asking user to login after starting the wrap job.\n",
    "\n",
    "`sbatch -p short -t 0-12 --mem 2G --wrap 'omero import --skip=upgrade --skip=checksum --skip=minmax  -d [OMERO DATASETID] [RELATIVE PATH TO OME.TIF]'`"
   ]
  },
  {
   "cell_type": "code",
   "execution_count": null,
   "id": "16a8772e-e275-4b12-a526-b46789b115c7",
   "metadata": {},
   "outputs": [],
   "source": []
  }
 ],
 "metadata": {
  "kernelspec": {
   "display_name": "Python 3 (ipykernel)",
   "language": "python",
   "name": "python3"
  },
  "language_info": {
   "codemirror_mode": {
    "name": "ipython",
    "version": 3
   },
   "file_extension": ".py",
   "mimetype": "text/x-python",
   "name": "python",
   "nbconvert_exporter": "python",
   "pygments_lexer": "ipython3",
   "version": "3.10.14"
  }
 },
 "nbformat": 4,
 "nbformat_minor": 5
}
