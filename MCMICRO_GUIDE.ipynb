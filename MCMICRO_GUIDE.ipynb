{
 "cells": [
  {
   "cell_type": "markdown",
   "id": "3f5405e9-ede6-49a4-aa26-f3e8355b0526",
   "metadata": {},
   "source": [
    "## Stepwise guide for running mcmicro on O2\n",
    "### Step: 0\n",
    "Open a new terminal window. Using transfer node `ssh [ECOMMON ID]@transfer.rc.hms.harvard.edu` copy the raw data to your working directory on O2 scratch folder (`rsync -avP [path to source data] /n/scratch/users/*/*/[working dir]` ) \n",
    "### Step: 1\n",
    "From within a new terminal window, enter a login node `ssh [ECOMMON ID]@o2.hms.harvard.edu`. Go to the working directory where you transfered your raw data `cd /n/scratch/users/*/*/[working dir]`. Make sure the data is organized in the following format. Raw data from each slide/image needs to be in its own folder named `raw`. All the images need to be placed under a higher level folder (Dataset).\n",
    "\n",
    "-- Main_Folder/ Working directory (Dataset)  \n",
    "&emsp;&emsp;-- Image1/  \n",
    "&emsp;&emsp;&emsp;&emsp;-- raw/  \n",
    "&emsp;&emsp;-- Image2/  \n",
    "&emsp;&emsp;&emsp;&emsp;-- raw/   \n",
    "\n",
    "#### Optional: \n",
    "use this script to sort rcpnl files or ome.tif files into the correct mcmicro structure automatically. type `module load java` then create a new file called `sortfiles.nf`\n",
    "\n",
    "New file can be created by using any text editor. I use `vim`. Just type `vim sortfiles.nf` press `i`  to insert or start typing. Paste the following code block and save by pressing `esc` and then `:wq` + `enter`. if you want to use this script to sort ome.tiff into registration dir instead, replace `*.rcpnl` and `$dir/raw` respectively. Depending on the age of your raw file or the machine data was aquired, the format of your filename may require the `.split('@').head()` `@` to be replaced by a different character. Insert the character directly after the `LSPID` to isolate the `LSPID` here and decide the Dataset dir name.\n",
    "\n",
    "Type `nextflow sortfiles.nf` to run.\n",
    "\n"
   ]
  },
  {
   "cell_type": "markdown",
   "id": "729953ff-32d5-454d-ac5b-f7e7d7b9034a",
   "metadata": {},
   "source": [
    "```groovy\n",
    "Channel.fromPath(\"*.rcpnl\")\n",
    "    .map{ it ->\n",
    "      dir = it.getBaseName().split('@').head();\n",
    "      file(\"$dir/raw\").mkdirs();\n",
    "      it.moveTo(\"$dir/raw\")\n",
    "}\n",
    "```"
   ]
  },
  {
   "cell_type": "markdown",
   "id": "c4363f5b-4171-4999-9c3e-c05763d5cfa5",
   "metadata": {},
   "source": [
    "### Step: 2\n",
    "Again, within your working directory, create a markers.csv file in the following format. Ensure the same number of markers as number of channels in the image or there will be an error with mcmicro quantification module. \n",
    "\n",
    "you can again use vim, just type `vim markers.csv` press `i` to insert and can paste directly from a csv on excel if you want. save by pressing `esc` and then `:wq` + `enter`"
   ]
  },
  {
   "cell_type": "markdown",
   "id": "8c1f62ed-831e-411f-8942-108dc1994228",
   "metadata": {},
   "source": [
    "```\n",
    "cycle,marker_name\n",
    "1,DNA_1\n",
    "1,secondary_488\n",
    "1,secondary_555\n",
    "1,secondary_647\n",
    "2,DNA_2\n",
    "2,CCR4/7\n",
    "2,background_555\n",
    "2,background_647\n",
    "3,DNA_3\n",
    "3,CD163\n",
    "3,CD19\n",
    "3,CD3d\n",
    "```"
   ]
  },
  {
   "cell_type": "markdown",
   "id": "025bc70a-189d-4035-999d-d868b3ee0044",
   "metadata": {},
   "source": [
    "### Step: 3\n",
    "Within your working directory,create a params.yml file in the following format. note: parameters may change if the image was collected using pixel binning or on a different microscope. Here image was collected on Rarecyte Orion or HT14 without pixel binning. Change the `start-at` or `stop-at` parameters as needed for your unique situation.\n",
    "\n",
    "you can again use vim, just type `vim params.yml` press `i` to insert and can paste directly from a csv on excel if you want. save by pressing `esc` and then `:wq` + `enter`"
   ]
  },
  {
   "cell_type": "markdown",
   "id": "28719131-18c3-4fd4-ab5d-69c51bf59a58",
   "metadata": {},
   "source": [
    "```yaml\n",
    "workflow:\n",
    "  start-at: segmentation\n",
    "  stop-at: quantification\n",
    "  background: false\n",
    "  segmentation-channel: 1 1\n",
    "options:\n",
    "  unmicst: --channel 1 --scalingFactor 0.5 --tool unmicst-duo --outlier 99.99\n",
    "  s3seg: --maxima-footprint-size 15 --area-max 50000 --expand-size 6 --pixelSize 0.325 --mean-intensity-min 80\n",
    "  mcquant: --masks nucleiRing.ome.tif cellRing.ome.tif cytoRing.ome.tif\n",
    "modules:\n",
    "  watershed:\n",
    "    name: s3seg\n",
    "    container: labsyspharm/s3segmenter\n",
    "    version: 1.5.5-large\n",
    "```"
   ]
  },
  {
   "cell_type": "markdown",
   "id": "3243aea8-c612-45ce-925a-5fd5a1346ace",
   "metadata": {},
   "source": [
    "### Step: 4 \n",
    "Save a copy of `markers.csv` and `params.yml` within each `image` folder.\n",
    "\n",
    "#### Optional: \n",
    "use the following bash script to automatically copy these files into the `image` folder.\n",
    "\n",
    "again, use vim within your working directory. just type `vim cpmarkers.sh` press `i` to insert and can paste directly from a csv on excel if you want. save by pressing `esc` and then `:wq` + `enter`\n",
    "\n",
    "to run, type `bash cpmarkers.sh`"
   ]
  },
  {
   "cell_type": "markdown",
   "id": "47730a16-c0e4-4a08-a0c3-d90ac3c6d3d0",
   "metadata": {},
   "source": [
    "```bash\n",
    "#!/bin/bash\n",
    "for dir in LSP*\n",
    "  do\n",
    "  cp markers.csv \"$dir\"\n",
    "  cp params.yml \"$dir\"\n",
    "done\n",
    "```"
   ]
  },
  {
   "cell_type": "markdown",
   "id": "76000e92-1cfc-41da-9215-0f1ccb331c49",
   "metadata": {},
   "source": [
    "### Step: 5 \n",
    "move the `image` directories into a `Main Folder` where all directories within it will be subject to the mcmicro submission. \n",
    "\n",
    "I like to call this Main Folder something along the lines of `to_run`\n",
    "\n",
    "type first `mkdir to_run` then `mv LSP* to_run` . This is now referred to as your `dataset` directory, while the parent directory remains the `working directory`"
   ]
  },
  {
   "cell_type": "markdown",
   "id": "9416e9ef-c7d9-46d6-8f45-c08aee54af9d",
   "metadata": {},
   "source": [
    "### Step: 6\n",
    "Create a new file called 'submission.sh' and copy paste the following code block into it (This can be anywhere you like, I just keep in my working directory).\n",
    "\n",
    "\n",
    "New file can be created by using any text editor. I use `vim`. Just type `vim submission.sh` press `i`  to insert or start typing. Paste the following code block and save by pressing `esc` and then `:wq` + `enter`\n"
   ]
  },
  {
   "cell_type": "markdown",
   "id": "807b2979-1e3f-4296-ba23-9fa107e2a969",
   "metadata": {},
   "source": [
    "```bash\n",
    "#!/bin/sh\n",
    "\n",
    "# Using getopts for passing in arguments via basg\n",
    "while getopts \":p:t:\" opt; do\n",
    "  case $opt in\n",
    "    p) p=\"$OPTARG\"\n",
    "    ;;\n",
    "    t) t=\"$OPTARG\"\n",
    "    ;;\n",
    "  esac\n",
    "done\n",
    "\n",
    "# store sub dirs\n",
    "SLIDEDIRS=(\"$p\"/*/)\n",
    "\n",
    "# loop and submit all jobs\n",
    "for dir in ${SLIDEDIRS[@]}; do\n",
    "    cd \"$dir\"\n",
    "    name=$(basename \"$dir\")\n",
    "    echo $name $dir\n",
    "    sbatch --job-name \"$name\" \"$t\" \"$dir\"\n",
    "    sleep 2\n",
    "done\n",
    "```"
   ]
  },
  {
   "cell_type": "markdown",
   "id": "28a130d8-4a09-4a64-9e27-93066ae76b28",
   "metadata": {},
   "source": [
    "### Step: 7\n",
    "Create a template to run mcmicro on all images. This contains all the information of the various settings to be used when running mcmicro.\n",
    "\n",
    "Some fields need to be replaced based on your situation\n",
    "`#SBATCH -t ` This depends on the size of your dataset. Note if you change this, you might need to change `#SBATCH -p ` as well.  \n",
    "Maximum time in each partition\n",
    "short: 12 hours  \n",
    "medium: 5 days  \n",
    "long: 30 days \n",
    "for more on partitions see `https://harvardmed.atlassian.net/wiki/spaces/O2/pages/1586793641/How+to+choose+a+partition+in+O2`\n",
    "\n",
    "As before create a new file called `submit_mcmicro.sh` and copy paste the following code block into it.\n",
    "\n",
    "Just type `vim submit_mcmicro.sh` press `i` to insert or start typing. Paste the following code block and save by pressing `esc` and then `:wq` + `enter`"
   ]
  },
  {
   "cell_type": "markdown",
   "id": "54c6e39a-d1ff-43d0-b17d-90ae01ed3de5",
   "metadata": {},
   "source": [
    "```bash\n",
    "#!/bin/bash\n",
    "#SBATCH -p medium\n",
    "#SBATCH -J nextflow_O2\n",
    "#SBATCH -t 5-0\n",
    "#SBATCH --mem=1G\n",
    "#SBATCH --mail-type=END\n",
    "\n",
    "\n",
    "# get the values\n",
    "SAMPLEDIR=\"$1\"\n",
    "SAMPLEID=\"$(basename $SAMPLEDIR)\"\n",
    "\n",
    "# load packages\n",
    "module purge\n",
    "module load java\n",
    "\n",
    "# RUN JM custom script to generate memory config. toggle between using pre OR post reg\n",
    "# Comment out all lines if using -resume or re-running after the memory.config already exists\n",
    "# n/groups/lsp/mcmicro/tools/o2/config_pre_reg.sh -u -s  $SAMPLEDIR \n",
    "# -u  Set this when using unmicst --scalingFactor 0.5\n",
    "# -s  Set this when using s3segmenter-large version\n",
    "# Switch between pre and post registration memory config generation!\n",
    "#\n",
    "/n/groups/lsp/mcmicro/tools/o2/config_pre_reg.sh -s -u \"$SAMPLEDIR\" > \"$SAMPLEDIR\"/memory.config\n",
    "#/n/groups/lsp/mcmicro/tools/o2/config_post_reg.sh -s -u \"$SAMPLEDIR\" > \"$SAMPLEDIR\"/memory.config\n",
    "\n",
    "# Run\n",
    "nextflow run labsyspharm/mcmicro \\\n",
    "    -profile        O2,WSI,GPU\\\n",
    "    --in            \"$SAMPLEDIR\" \\\n",
    "    -w              /n/scratch/users/\"${USER:0:1}/$USER\"/work \\\n",
    "    -c              /n/scratch/users/\"${USER:0:1}/$USER\"/base.config \\\n",
    "    -c              \"$SAMPLEDIR\"/memory.config \\\n",
    "    --publish_dir_mode link\n",
    "```"
   ]
  },
  {
   "cell_type": "markdown",
   "id": "821dea72-02b3-4633-98d5-0aac5dbb9459",
   "metadata": {},
   "source": [
    "### Step: 8\n",
    "Create the `base.config` file. This can be located anywhere you like. I keep mine in my user scratch folder (see path in script above, change to your chosen path)\n",
    "\n",
    "Move to the chosen directory and type `vim base.config` press `i` to insert or start typing. Paste the following code block and save by pressing `esc` and then `:wq` + `enter`"
   ]
  },
  {
   "cell_type": "markdown",
   "id": "76b395f9-c85d-4c4f-8148-797f3bd59398",
   "metadata": {},
   "source": [
    "```groovy\n",
    "process {\n",
    "  withName:illumination   {\n",
    "    cpus   = 4\n",
    "    time   = '12h'\n",
    "  }\n",
    "  withName:ashlar         {\n",
    "    cpus   = 1\n",
    "    time   = '36h'\n",
    "    queue  = 'medium'\n",
    "  }\n",
    "   withName: 'segmentation:worker'         {\n",
    "    time   = '2h'\n",
    "    queue = 'gpu_quad'\n",
    "  }\n",
    "  withName:s3seg          {\n",
    "    cpus   = 4\n",
    "    time   = '2h'\n",
    "  }\n",
    "  withName:mcquant        {\n",
    "    cpus   = 1\n",
    "    queue  = 'medium'\n",
    "    time   = '96h'\n",
    "  }\n",
    "}\n",
    "\n",
    "report {\n",
    "  enabled = false\n",
    "}\n",
    "```"
   ]
  },
  {
   "cell_type": "markdown",
   "id": "0843ae81-fe90-444d-a7a3-6f11d6e894ba",
   "metadata": {},
   "source": [
    "### Step: 9\n",
    "Submit the job !!!\n",
    "\n",
    "Type the following from the directory where you had saved the submission.sh script.\n",
    "\n",
    "`bash submission.sh -p '/n/scratch/users/r/rjp21/project/to_run' -t '/n/scratch/users/r/rjp21/project/submit_mcmicro.sh'`\n",
    "where,\n",
    "`p` is path to the main/dataset folder.\n",
    "`t` is path to the template file that you just created.\n",
    "\n",
    "type `sacct` into the terminal to see the jobs submitted."
   ]
  }
 ],
 "metadata": {
  "kernelspec": {
   "display_name": "Python 3 (ipykernel)",
   "language": "python",
   "name": "python3"
  },
  "language_info": {
   "codemirror_mode": {
    "name": "ipython",
    "version": 3
   },
   "file_extension": ".py",
   "mimetype": "text/x-python",
   "name": "python",
   "nbconvert_exporter": "python",
   "pygments_lexer": "ipython3",
   "version": "3.10.13"
  }
 },
 "nbformat": 4,
 "nbformat_minor": 5
}
